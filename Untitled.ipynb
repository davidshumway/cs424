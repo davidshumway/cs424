{
 "cells": [
  {
   "cell_type": "code",
   "execution_count": 2,
   "metadata": {},
   "outputs": [
    {
     "name": "stdout",
     "output_type": "stream",
     "text": [
      "Files in Directory /home/dave/Documents/UIC/424 spring 2021/cs424:\n",
      "\n",
      "annual_generation_state.csv \n",
      "app.R \n",
      "index.html \n",
      "Project1.ipynb \n",
      "README.md \n",
      "server.R \n",
      "ui.R \n",
      "Untitled.ipynb \n"
     ]
    }
   ],
   "source": [
    "library(pracma)\n",
    "what()"
   ]
  }
 ],
 "metadata": {
  "kernelspec": {
   "display_name": "R",
   "language": "R",
   "name": "ir"
  },
  "language_info": {
   "codemirror_mode": "r",
   "file_extension": ".r",
   "mimetype": "text/x-r-source",
   "name": "R",
   "pygments_lexer": "r",
   "version": "4.0.3"
  }
 },
 "nbformat": 4,
 "nbformat_minor": 4
}
