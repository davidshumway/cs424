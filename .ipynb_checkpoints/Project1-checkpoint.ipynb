{
 "cells": [
  {
   "cell_type": "code",
   "execution_count": 2,
   "metadata": {},
   "outputs": [
    {
     "name": "stdout",
     "output_type": "stream",
     "text": [
      "Files in Directory /home/dave/Documents/UIC/424 spring 2021/cs424:\n",
      "\n",
      "annual_generation_state.csv \n",
      "app.R \n",
      "index.html \n",
      "Project1.ipynb \n",
      "README.md \n",
      "server.R \n",
      "ui.R \n",
      "Untitled.ipynb \n"
     ]
    }
   ],
   "source": [
    "library(pracma)\n",
    "what()\n",
    "#install.packages('pracma')\n",
    "#install.packages('rsconnect')\n",
    "library(rsconnect)\n",
    "rsconnect::setAccountInfo(\n",
    "    name='parrot',\n",
    "    token='F72BCD3A60FE3D4998BBDE1AF5584D73',\n",
    "    secret='4vxnFMilq1USLvl5CbXAOsn8+nmycyXS0oTyS9GU')"
   ]
  },
  {
   "cell_type": "code",
   "execution_count": 18,
   "metadata": {},
   "outputs": [
    {
     "data": {
      "text/html": [
       "53756"
      ],
      "text/latex": [
       "53756"
      ],
      "text/markdown": [
       "53756"
      ],
      "text/plain": [
       "[1] 53756"
      ]
     },
     "metadata": {},
     "output_type": "display_data"
    },
    {
     "data": {
      "text/html": [
       "5"
      ],
      "text/latex": [
       "5"
      ],
      "text/markdown": [
       "5"
      ],
      "text/plain": [
       "[1] 5"
      ]
     },
     "metadata": {},
     "output_type": "display_data"
    },
    {
     "data": {
      "text/html": [
       "<style>\n",
       ".list-inline {list-style: none; margin:0; padding: 0}\n",
       ".list-inline>li {display: inline-block}\n",
       ".list-inline>li:not(:last-child)::after {content: \"\\00b7\"; padding: 0 .5ex}\n",
       "</style>\n",
       "<ol class=list-inline><li>'YEAR'</li><li>'STATE'</li><li>'TYPE.OF.PRODUCER'</li><li>'ENERGY.SOURCE'</li><li>'GENERATION..Megawatthours.'</li></ol>\n"
      ],
      "text/latex": [
       "\\begin{enumerate*}\n",
       "\\item 'YEAR'\n",
       "\\item 'STATE'\n",
       "\\item 'TYPE.OF.PRODUCER'\n",
       "\\item 'ENERGY.SOURCE'\n",
       "\\item 'GENERATION..Megawatthours.'\n",
       "\\end{enumerate*}\n"
      ],
      "text/markdown": [
       "1. 'YEAR'\n",
       "2. 'STATE'\n",
       "3. 'TYPE.OF.PRODUCER'\n",
       "4. 'ENERGY.SOURCE'\n",
       "5. 'GENERATION..Megawatthours.'\n",
       "\n",
       "\n"
      ],
      "text/plain": [
       "[1] \"YEAR\"                       \"STATE\"                     \n",
       "[3] \"TYPE.OF.PRODUCER\"           \"ENERGY.SOURCE\"             \n",
       "[5] \"GENERATION..Megawatthours.\""
      ]
     },
     "metadata": {},
     "output_type": "display_data"
    },
    {
     "name": "stdout",
     "output_type": "stream",
     "text": [
      "'data.frame':\t53756 obs. of  5 variables:\n",
      " $ YEAR                      : int  1990 1990 1990 1990 1990 1990 1990 1990 1990 1990 ...\n",
      " $ STATE                     : chr  \"AK\" \"AK\" \"AK\" \"AK\" ...\n",
      " $ TYPE.OF.PRODUCER          : chr  \"Total Electric Power Industry\" \"Total Electric Power Industry\" \"Total Electric Power Industry\" \"Total Electric Power Industry\" ...\n",
      " $ ENERGY.SOURCE             : chr  \"Total\" \"Coal\" \"Hydroelectric Conventional\" \"Natural Gas\" ...\n",
      " $ GENERATION..Megawatthours.: chr  \"5,599,506\" \"510,573\" \"974,521\" \"3,466,261\" ...\n"
     ]
    }
   ],
   "source": [
    "data <- read.csv('annual_generation_state.csv')#, sep = ',', header = TRUE)\n",
    "nrow(data)\n",
    "ncol(data)\n",
    "colnames(data)\n",
    "str(data)\n",
    "# library(stringr)\n",
    "# names(data) <- str_replace_all(names(data), c(' ' = ''))\n",
    "# print(names(data))\n",
    "# head(data$GENERATION..Megawatthours.)\n"
   ]
  },
  {
   "cell_type": "code",
   "execution_count": 19,
   "metadata": {},
   "outputs": [
    {
     "name": "stdout",
     "output_type": "stream",
     "text": [
      "'data.frame':\t53756 obs. of  5 variables:\n",
      " $ YEAR                      : int  1990 1990 1990 1990 1990 1990 1990 1990 1990 1990 ...\n",
      " $ STATE                     : chr  \"AK\" \"AK\" \"AK\" \"AK\" ...\n",
      " $ TYPE.OF.PRODUCER          : chr  \"Total Electric Power Industry\" \"Total Electric Power Industry\" \"Total Electric Power Industry\" \"Total Electric Power Industry\" ...\n",
      " $ ENERGY.SOURCE             : chr  \"Total\" \"Coal\" \"Hydroelectric Conventional\" \"Natural Gas\" ...\n",
      " $ GENERATION..Megawatthours.: num  5599506 510573 974521 3466261 497116 ...\n"
     ]
    }
   ],
   "source": [
    "data$GENERATION..Megawatthours. <- as.numeric(\n",
    "    gsub(',', '', data$GENERATION..Megawatthours.))\n",
    "str(data)"
   ]
  },
  {
   "cell_type": "code",
   "execution_count": 21,
   "metadata": {},
   "outputs": [
    {
     "data": {
      "text/html": [
       "<style>\n",
       ".list-inline {list-style: none; margin:0; padding: 0}\n",
       ".list-inline>li {display: inline-block}\n",
       ".list-inline>li:not(:last-child)::after {content: \"\\00b7\"; padding: 0 .5ex}\n",
       "</style>\n",
       "<ol class=list-inline><li>'AK'</li><li>'AL'</li><li>'AR'</li><li>'AZ'</li><li>'CA'</li><li>'CO'</li><li>'CT'</li><li>'DC'</li><li>'DE'</li><li>'FL'</li><li>'GA'</li><li>'HI'</li><li>'IA'</li><li>'ID'</li><li>'IL'</li><li>'IN'</li><li>'KS'</li><li>'KY'</li><li>'LA'</li><li>'MA'</li><li>'MD'</li><li>'ME'</li><li>'MI'</li><li>'MN'</li><li>'MO'</li><li>'MS'</li><li>'MT'</li><li>'NC'</li><li>'ND'</li><li>'NE'</li><li>'NH'</li><li>'NJ'</li><li>'NM'</li><li>'NV'</li><li>'NY'</li><li>'OH'</li><li>'OK'</li><li>'OR'</li><li>'PA'</li><li>'RI'</li><li>'SC'</li><li>'SD'</li><li>'TN'</li><li>'TX'</li><li>'US-TOTAL'</li><li>'UT'</li><li>'VA'</li><li>'VT'</li><li>'WA'</li><li>'WI'</li><li>'WV'</li><li>'WY'</li><li><span style=white-space:pre-wrap>'  '</span></li></ol>\n"
      ],
      "text/latex": [
       "\\begin{enumerate*}\n",
       "\\item 'AK'\n",
       "\\item 'AL'\n",
       "\\item 'AR'\n",
       "\\item 'AZ'\n",
       "\\item 'CA'\n",
       "\\item 'CO'\n",
       "\\item 'CT'\n",
       "\\item 'DC'\n",
       "\\item 'DE'\n",
       "\\item 'FL'\n",
       "\\item 'GA'\n",
       "\\item 'HI'\n",
       "\\item 'IA'\n",
       "\\item 'ID'\n",
       "\\item 'IL'\n",
       "\\item 'IN'\n",
       "\\item 'KS'\n",
       "\\item 'KY'\n",
       "\\item 'LA'\n",
       "\\item 'MA'\n",
       "\\item 'MD'\n",
       "\\item 'ME'\n",
       "\\item 'MI'\n",
       "\\item 'MN'\n",
       "\\item 'MO'\n",
       "\\item 'MS'\n",
       "\\item 'MT'\n",
       "\\item 'NC'\n",
       "\\item 'ND'\n",
       "\\item 'NE'\n",
       "\\item 'NH'\n",
       "\\item 'NJ'\n",
       "\\item 'NM'\n",
       "\\item 'NV'\n",
       "\\item 'NY'\n",
       "\\item 'OH'\n",
       "\\item 'OK'\n",
       "\\item 'OR'\n",
       "\\item 'PA'\n",
       "\\item 'RI'\n",
       "\\item 'SC'\n",
       "\\item 'SD'\n",
       "\\item 'TN'\n",
       "\\item 'TX'\n",
       "\\item 'US-TOTAL'\n",
       "\\item 'UT'\n",
       "\\item 'VA'\n",
       "\\item 'VT'\n",
       "\\item 'WA'\n",
       "\\item 'WI'\n",
       "\\item 'WV'\n",
       "\\item 'WY'\n",
       "\\item '  '\n",
       "\\end{enumerate*}\n"
      ],
      "text/markdown": [
       "1. 'AK'\n",
       "2. 'AL'\n",
       "3. 'AR'\n",
       "4. 'AZ'\n",
       "5. 'CA'\n",
       "6. 'CO'\n",
       "7. 'CT'\n",
       "8. 'DC'\n",
       "9. 'DE'\n",
       "10. 'FL'\n",
       "11. 'GA'\n",
       "12. 'HI'\n",
       "13. 'IA'\n",
       "14. 'ID'\n",
       "15. 'IL'\n",
       "16. 'IN'\n",
       "17. 'KS'\n",
       "18. 'KY'\n",
       "19. 'LA'\n",
       "20. 'MA'\n",
       "21. 'MD'\n",
       "22. 'ME'\n",
       "23. 'MI'\n",
       "24. 'MN'\n",
       "25. 'MO'\n",
       "26. 'MS'\n",
       "27. 'MT'\n",
       "28. 'NC'\n",
       "29. 'ND'\n",
       "30. 'NE'\n",
       "31. 'NH'\n",
       "32. 'NJ'\n",
       "33. 'NM'\n",
       "34. 'NV'\n",
       "35. 'NY'\n",
       "36. 'OH'\n",
       "37. 'OK'\n",
       "38. 'OR'\n",
       "39. 'PA'\n",
       "40. 'RI'\n",
       "41. 'SC'\n",
       "42. 'SD'\n",
       "43. 'TN'\n",
       "44. 'TX'\n",
       "45. 'US-TOTAL'\n",
       "46. 'UT'\n",
       "47. 'VA'\n",
       "48. 'VT'\n",
       "49. 'WA'\n",
       "50. 'WI'\n",
       "51. 'WV'\n",
       "52. 'WY'\n",
       "53. <span style=white-space:pre-wrap>'  '</span>\n",
       "\n",
       "\n"
      ],
      "text/plain": [
       " [1] \"AK\"       \"AL\"       \"AR\"       \"AZ\"       \"CA\"       \"CO\"      \n",
       " [7] \"CT\"       \"DC\"       \"DE\"       \"FL\"       \"GA\"       \"HI\"      \n",
       "[13] \"IA\"       \"ID\"       \"IL\"       \"IN\"       \"KS\"       \"KY\"      \n",
       "[19] \"LA\"       \"MA\"       \"MD\"       \"ME\"       \"MI\"       \"MN\"      \n",
       "[25] \"MO\"       \"MS\"       \"MT\"       \"NC\"       \"ND\"       \"NE\"      \n",
       "[31] \"NH\"       \"NJ\"       \"NM\"       \"NV\"       \"NY\"       \"OH\"      \n",
       "[37] \"OK\"       \"OR\"       \"PA\"       \"RI\"       \"SC\"       \"SD\"      \n",
       "[43] \"TN\"       \"TX\"       \"US-TOTAL\" \"UT\"       \"VA\"       \"VT\"      \n",
       "[49] \"WA\"       \"WI\"       \"WV\"       \"WY\"       \"  \"      "
      ]
     },
     "metadata": {},
     "output_type": "display_data"
    }
   ],
   "source": [
    "#US-Total\n",
    "#US-TOTAL\n",
    "data$STATE <- toupper(data$STATE)\n",
    "unique(data$STATE)"
   ]
  },
  {
   "cell_type": "code",
   "execution_count": 22,
   "metadata": {},
   "outputs": [
    {
     "name": "stdout",
     "output_type": "stream",
     "text": [
      "'data.frame':\t53756 obs. of  5 variables:\n",
      " $ YEAR                      : int  1990 1990 1990 1990 1990 1990 1990 1990 1990 1990 ...\n",
      " $ STATE                     : Factor w/ 53 levels \"  \",\"AK\",\"AL\",..: 2 2 2 2 2 2 2 2 2 2 ...\n",
      " $ TYPE.OF.PRODUCER          : Factor w/ 6 levels \"Combined Heat and Power, Commercial Power\",..: 6 6 6 6 6 6 6 4 4 4 ...\n",
      " $ ENERGY.SOURCE             : Factor w/ 14 levels \"Coal\",\"Geothermal\",..: 12 1 3 4 9 13 14 12 1 3 ...\n",
      " $ GENERATION..Megawatthours.: num  5599506 510573 974521 3466261 497116 ...\n"
     ]
    }
   ],
   "source": [
    "# as.factor, to categorical\n",
    "data$STATE <- as.factor(data$STATE)\n",
    "data$TYPE.OF.PRODUCER <- as.factor(data$TYPE.OF.PRODUCER)\n",
    "data$ENERGY.SOURCE <- as.factor(data$ENERGY.SOURCE)\n",
    "str(data)"
   ]
  },
  {
   "cell_type": "code",
   "execution_count": 27,
   "metadata": {},
   "outputs": [
    {
     "data": {
      "text/html": [
       "<table class=\"dataframe\">\n",
       "<caption>A data.frame: 3 × 5</caption>\n",
       "<thead>\n",
       "\t<tr><th></th><th scope=col>YEAR</th><th scope=col>STATE</th><th scope=col>TYPE.OF.PRODUCER</th><th scope=col>ENERGY.SOURCE</th><th scope=col>GENERATION..Megawatthours.</th></tr>\n",
       "\t<tr><th></th><th scope=col>&lt;int&gt;</th><th scope=col>&lt;fct&gt;</th><th scope=col>&lt;fct&gt;</th><th scope=col>&lt;fct&gt;</th><th scope=col>&lt;dbl&gt;</th></tr>\n",
       "</thead>\n",
       "<tbody>\n",
       "\t<tr><th scope=row>20577</th><td>2003</td><td>  </td><td>Total Electric Power Industry</td><td>Coal       </td><td>0</td></tr>\n",
       "\t<tr><th scope=row>20578</th><td>2003</td><td>  </td><td>Total Electric Power Industry</td><td>Natural Gas</td><td>0</td></tr>\n",
       "\t<tr><th scope=row>20579</th><td>2003</td><td>  </td><td>Total Electric Power Industry</td><td>Petroleum  </td><td>0</td></tr>\n",
       "</tbody>\n",
       "</table>\n"
      ],
      "text/latex": [
       "A data.frame: 3 × 5\n",
       "\\begin{tabular}{r|lllll}\n",
       "  & YEAR & STATE & TYPE.OF.PRODUCER & ENERGY.SOURCE & GENERATION..Megawatthours.\\\\\n",
       "  & <int> & <fct> & <fct> & <fct> & <dbl>\\\\\n",
       "\\hline\n",
       "\t20577 & 2003 &    & Total Electric Power Industry & Coal        & 0\\\\\n",
       "\t20578 & 2003 &    & Total Electric Power Industry & Natural Gas & 0\\\\\n",
       "\t20579 & 2003 &    & Total Electric Power Industry & Petroleum   & 0\\\\\n",
       "\\end{tabular}\n"
      ],
      "text/markdown": [
       "\n",
       "A data.frame: 3 × 5\n",
       "\n",
       "| <!--/--> | YEAR &lt;int&gt; | STATE &lt;fct&gt; | TYPE.OF.PRODUCER &lt;fct&gt; | ENERGY.SOURCE &lt;fct&gt; | GENERATION..Megawatthours. &lt;dbl&gt; |\n",
       "|---|---|---|---|---|---|\n",
       "| 20577 | 2003 | <!----> | Total Electric Power Industry | Coal        | 0 |\n",
       "| 20578 | 2003 | <!----> | Total Electric Power Industry | Natural Gas | 0 |\n",
       "| 20579 | 2003 | <!----> | Total Electric Power Industry | Petroleum   | 0 |\n",
       "\n"
      ],
      "text/plain": [
       "      YEAR STATE TYPE.OF.PRODUCER              ENERGY.SOURCE\n",
       "20577 2003       Total Electric Power Industry Coal         \n",
       "20578 2003       Total Electric Power Industry Natural Gas  \n",
       "20579 2003       Total Electric Power Industry Petroleum    \n",
       "      GENERATION..Megawatthours.\n",
       "20577 0                         \n",
       "20578 0                         \n",
       "20579 0                         "
      ]
     },
     "metadata": {},
     "output_type": "display_data"
    }
   ],
   "source": [
    "# Three states with missing identifiers. \n",
    "# We could try to figure out which states\n",
    "# are missing this data, or we could just\n",
    "# remove it.\n",
    "data[data$STATE == \"  \",]"
   ]
  }
 ],
 "metadata": {
  "kernelspec": {
   "display_name": "R",
   "language": "R",
   "name": "ir"
  },
  "language_info": {
   "codemirror_mode": "r",
   "file_extension": ".r",
   "mimetype": "text/x-r-source",
   "name": "R",
   "pygments_lexer": "r",
   "version": "4.0.3"
  }
 },
 "nbformat": 4,
 "nbformat_minor": 4
}
