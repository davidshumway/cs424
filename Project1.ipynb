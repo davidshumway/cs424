{
 "cells": [
  {
   "cell_type": "code",
   "execution_count": 185,
   "metadata": {},
   "outputs": [
    {
     "name": "stdout",
     "output_type": "stream",
     "text": [
      "Files in Directory /home/dave/Documents/UIC/424 spring 2021/cs424:\n",
      "\n",
      "annual_generation_state.csv \n",
      "app.R \n",
      "index.html \n",
      "Project1.ipynb \n",
      "README.md \n",
      "server.R \n",
      "tmp.R.notR \n",
      "ui.R \n",
      "Untitled.ipynb \n"
     ]
    }
   ],
   "source": [
    "library(pracma)\n",
    "what()\n",
    "#install.packages('pracma')\n",
    "#install.packages('rsconnect')\n",
    "library(rsconnect)\n",
    "rsconnect::setAccountInfo(\n",
    "    name='parrot',\n",
    "    token='F72BCD3A60FE3D4998BBDE1AF5584D73',\n",
    "    secret='4vxnFMilq1USLvl5CbXAOsn8+nmycyXS0oTyS9GU')"
   ]
  },
  {
   "cell_type": "code",
   "execution_count": 186,
   "metadata": {},
   "outputs": [
    {
     "data": {
      "text/html": [
       "53756"
      ],
      "text/latex": [
       "53756"
      ],
      "text/markdown": [
       "53756"
      ],
      "text/plain": [
       "[1] 53756"
      ]
     },
     "metadata": {},
     "output_type": "display_data"
    },
    {
     "data": {
      "text/html": [
       "5"
      ],
      "text/latex": [
       "5"
      ],
      "text/markdown": [
       "5"
      ],
      "text/plain": [
       "[1] 5"
      ]
     },
     "metadata": {},
     "output_type": "display_data"
    },
    {
     "data": {
      "text/html": [
       "<table class=\"dataframe\">\n",
       "<caption>A data.frame: 6 × 5</caption>\n",
       "<thead>\n",
       "\t<tr><th></th><th scope=col>YEAR</th><th scope=col>STATE</th><th scope=col>TYPE.OF.PRODUCER</th><th scope=col>ENERGY.SOURCE</th><th scope=col>GENERATION..Megawatthours.</th></tr>\n",
       "\t<tr><th></th><th scope=col>&lt;int&gt;</th><th scope=col>&lt;chr&gt;</th><th scope=col>&lt;chr&gt;</th><th scope=col>&lt;chr&gt;</th><th scope=col>&lt;chr&gt;</th></tr>\n",
       "</thead>\n",
       "<tbody>\n",
       "\t<tr><th scope=row>1</th><td>1990</td><td>AK</td><td>Total Electric Power Industry</td><td>Total                     </td><td>5,599,506</td></tr>\n",
       "\t<tr><th scope=row>2</th><td>1990</td><td>AK</td><td>Total Electric Power Industry</td><td>Coal                      </td><td>510,573  </td></tr>\n",
       "\t<tr><th scope=row>3</th><td>1990</td><td>AK</td><td>Total Electric Power Industry</td><td>Hydroelectric Conventional</td><td>974,521  </td></tr>\n",
       "\t<tr><th scope=row>4</th><td>1990</td><td>AK</td><td>Total Electric Power Industry</td><td>Natural Gas               </td><td>3,466,261</td></tr>\n",
       "\t<tr><th scope=row>5</th><td>1990</td><td>AK</td><td>Total Electric Power Industry</td><td>Petroleum                 </td><td>497,116  </td></tr>\n",
       "\t<tr><th scope=row>6</th><td>1990</td><td>AK</td><td>Total Electric Power Industry</td><td>Wind                      </td><td>0        </td></tr>\n",
       "</tbody>\n",
       "</table>\n"
      ],
      "text/latex": [
       "A data.frame: 6 × 5\n",
       "\\begin{tabular}{r|lllll}\n",
       "  & YEAR & STATE & TYPE.OF.PRODUCER & ENERGY.SOURCE & GENERATION..Megawatthours.\\\\\n",
       "  & <int> & <chr> & <chr> & <chr> & <chr>\\\\\n",
       "\\hline\n",
       "\t1 & 1990 & AK & Total Electric Power Industry & Total                      & 5,599,506\\\\\n",
       "\t2 & 1990 & AK & Total Electric Power Industry & Coal                       & 510,573  \\\\\n",
       "\t3 & 1990 & AK & Total Electric Power Industry & Hydroelectric Conventional & 974,521  \\\\\n",
       "\t4 & 1990 & AK & Total Electric Power Industry & Natural Gas                & 3,466,261\\\\\n",
       "\t5 & 1990 & AK & Total Electric Power Industry & Petroleum                  & 497,116  \\\\\n",
       "\t6 & 1990 & AK & Total Electric Power Industry & Wind                       & 0        \\\\\n",
       "\\end{tabular}\n"
      ],
      "text/markdown": [
       "\n",
       "A data.frame: 6 × 5\n",
       "\n",
       "| <!--/--> | YEAR &lt;int&gt; | STATE &lt;chr&gt; | TYPE.OF.PRODUCER &lt;chr&gt; | ENERGY.SOURCE &lt;chr&gt; | GENERATION..Megawatthours. &lt;chr&gt; |\n",
       "|---|---|---|---|---|---|\n",
       "| 1 | 1990 | AK | Total Electric Power Industry | Total                      | 5,599,506 |\n",
       "| 2 | 1990 | AK | Total Electric Power Industry | Coal                       | 510,573   |\n",
       "| 3 | 1990 | AK | Total Electric Power Industry | Hydroelectric Conventional | 974,521   |\n",
       "| 4 | 1990 | AK | Total Electric Power Industry | Natural Gas                | 3,466,261 |\n",
       "| 5 | 1990 | AK | Total Electric Power Industry | Petroleum                  | 497,116   |\n",
       "| 6 | 1990 | AK | Total Electric Power Industry | Wind                       | 0         |\n",
       "\n"
      ],
      "text/plain": [
       "  YEAR STATE TYPE.OF.PRODUCER              ENERGY.SOURCE             \n",
       "1 1990 AK    Total Electric Power Industry Total                     \n",
       "2 1990 AK    Total Electric Power Industry Coal                      \n",
       "3 1990 AK    Total Electric Power Industry Hydroelectric Conventional\n",
       "4 1990 AK    Total Electric Power Industry Natural Gas               \n",
       "5 1990 AK    Total Electric Power Industry Petroleum                 \n",
       "6 1990 AK    Total Electric Power Industry Wind                      \n",
       "  GENERATION..Megawatthours.\n",
       "1 5,599,506                 \n",
       "2 510,573                   \n",
       "3 974,521                   \n",
       "4 3,466,261                 \n",
       "5 497,116                   \n",
       "6 0                         "
      ]
     },
     "metadata": {},
     "output_type": "display_data"
    }
   ],
   "source": [
    "data <- read.csv('annual_generation_state.csv')#, sep = ',', header = TRUE)\n",
    "nrow(data)\n",
    "ncol(data)\n",
    "head(data)\n"
   ]
  },
  {
   "cell_type": "code",
   "execution_count": 187,
   "metadata": {},
   "outputs": [
    {
     "data": {
      "text/html": [
       "<table class=\"dataframe\">\n",
       "<caption>A data.frame: 6 × 5</caption>\n",
       "<thead>\n",
       "\t<tr><th></th><th scope=col>YEAR</th><th scope=col>STATE</th><th scope=col>TYPE.OF.PRODUCER</th><th scope=col>ENERGY.SOURCE</th><th scope=col>GENERATION..Megawatthours.</th></tr>\n",
       "\t<tr><th></th><th scope=col>&lt;int&gt;</th><th scope=col>&lt;chr&gt;</th><th scope=col>&lt;chr&gt;</th><th scope=col>&lt;chr&gt;</th><th scope=col>&lt;dbl&gt;</th></tr>\n",
       "</thead>\n",
       "<tbody>\n",
       "\t<tr><th scope=row>1</th><td>1990</td><td>AK</td><td>Total Electric Power Industry</td><td>Total                     </td><td>5599506</td></tr>\n",
       "\t<tr><th scope=row>2</th><td>1990</td><td>AK</td><td>Total Electric Power Industry</td><td>Coal                      </td><td> 510573</td></tr>\n",
       "\t<tr><th scope=row>3</th><td>1990</td><td>AK</td><td>Total Electric Power Industry</td><td>Hydroelectric Conventional</td><td> 974521</td></tr>\n",
       "\t<tr><th scope=row>4</th><td>1990</td><td>AK</td><td>Total Electric Power Industry</td><td>Natural Gas               </td><td>3466261</td></tr>\n",
       "\t<tr><th scope=row>5</th><td>1990</td><td>AK</td><td>Total Electric Power Industry</td><td>Petroleum                 </td><td> 497116</td></tr>\n",
       "\t<tr><th scope=row>6</th><td>1990</td><td>AK</td><td>Total Electric Power Industry</td><td>Wind                      </td><td>      0</td></tr>\n",
       "</tbody>\n",
       "</table>\n"
      ],
      "text/latex": [
       "A data.frame: 6 × 5\n",
       "\\begin{tabular}{r|lllll}\n",
       "  & YEAR & STATE & TYPE.OF.PRODUCER & ENERGY.SOURCE & GENERATION..Megawatthours.\\\\\n",
       "  & <int> & <chr> & <chr> & <chr> & <dbl>\\\\\n",
       "\\hline\n",
       "\t1 & 1990 & AK & Total Electric Power Industry & Total                      & 5599506\\\\\n",
       "\t2 & 1990 & AK & Total Electric Power Industry & Coal                       &  510573\\\\\n",
       "\t3 & 1990 & AK & Total Electric Power Industry & Hydroelectric Conventional &  974521\\\\\n",
       "\t4 & 1990 & AK & Total Electric Power Industry & Natural Gas                & 3466261\\\\\n",
       "\t5 & 1990 & AK & Total Electric Power Industry & Petroleum                  &  497116\\\\\n",
       "\t6 & 1990 & AK & Total Electric Power Industry & Wind                       &       0\\\\\n",
       "\\end{tabular}\n"
      ],
      "text/markdown": [
       "\n",
       "A data.frame: 6 × 5\n",
       "\n",
       "| <!--/--> | YEAR &lt;int&gt; | STATE &lt;chr&gt; | TYPE.OF.PRODUCER &lt;chr&gt; | ENERGY.SOURCE &lt;chr&gt; | GENERATION..Megawatthours. &lt;dbl&gt; |\n",
       "|---|---|---|---|---|---|\n",
       "| 1 | 1990 | AK | Total Electric Power Industry | Total                      | 5599506 |\n",
       "| 2 | 1990 | AK | Total Electric Power Industry | Coal                       |  510573 |\n",
       "| 3 | 1990 | AK | Total Electric Power Industry | Hydroelectric Conventional |  974521 |\n",
       "| 4 | 1990 | AK | Total Electric Power Industry | Natural Gas                | 3466261 |\n",
       "| 5 | 1990 | AK | Total Electric Power Industry | Petroleum                  |  497116 |\n",
       "| 6 | 1990 | AK | Total Electric Power Industry | Wind                       |       0 |\n",
       "\n"
      ],
      "text/plain": [
       "  YEAR STATE TYPE.OF.PRODUCER              ENERGY.SOURCE             \n",
       "1 1990 AK    Total Electric Power Industry Total                     \n",
       "2 1990 AK    Total Electric Power Industry Coal                      \n",
       "3 1990 AK    Total Electric Power Industry Hydroelectric Conventional\n",
       "4 1990 AK    Total Electric Power Industry Natural Gas               \n",
       "5 1990 AK    Total Electric Power Industry Petroleum                 \n",
       "6 1990 AK    Total Electric Power Industry Wind                      \n",
       "  GENERATION..Megawatthours.\n",
       "1 5599506                   \n",
       "2  510573                   \n",
       "3  974521                   \n",
       "4 3466261                   \n",
       "5  497116                   \n",
       "6       0                   "
      ]
     },
     "metadata": {},
     "output_type": "display_data"
    }
   ],
   "source": [
    "data$GENERATION..Megawatthours. <- as.numeric(gsub(',', '', data$GENERATION..Megawatthours.))\n",
    "head(data)"
   ]
  },
  {
   "cell_type": "code",
   "execution_count": 188,
   "metadata": {},
   "outputs": [
    {
     "data": {
      "text/html": [
       "<style>\n",
       ".list-inline {list-style: none; margin:0; padding: 0}\n",
       ".list-inline>li {display: inline-block}\n",
       ".list-inline>li:not(:last-child)::after {content: \"\\00b7\"; padding: 0 .5ex}\n",
       "</style>\n",
       "<ol class=list-inline><li>'AK'</li><li>'AL'</li><li>'AR'</li><li>'AZ'</li><li>'CA'</li><li>'CO'</li><li>'CT'</li><li>'DC'</li><li>'DE'</li><li>'FL'</li><li>'GA'</li><li>'HI'</li><li>'IA'</li><li>'ID'</li><li>'IL'</li><li>'IN'</li><li>'KS'</li><li>'KY'</li><li>'LA'</li><li>'MA'</li><li>'MD'</li><li>'ME'</li><li>'MI'</li><li>'MN'</li><li>'MO'</li><li>'MS'</li><li>'MT'</li><li>'NC'</li><li>'ND'</li><li>'NE'</li><li>'NH'</li><li>'NJ'</li><li>'NM'</li><li>'NV'</li><li>'NY'</li><li>'OH'</li><li>'OK'</li><li>'OR'</li><li>'PA'</li><li>'RI'</li><li>'SC'</li><li>'SD'</li><li>'TN'</li><li>'TX'</li><li>'US-TOTAL'</li><li>'UT'</li><li>'VA'</li><li>'VT'</li><li>'WA'</li><li>'WI'</li><li>'WV'</li><li>'WY'</li><li><span style=white-space:pre-wrap>'  '</span></li></ol>\n"
      ],
      "text/latex": [
       "\\begin{enumerate*}\n",
       "\\item 'AK'\n",
       "\\item 'AL'\n",
       "\\item 'AR'\n",
       "\\item 'AZ'\n",
       "\\item 'CA'\n",
       "\\item 'CO'\n",
       "\\item 'CT'\n",
       "\\item 'DC'\n",
       "\\item 'DE'\n",
       "\\item 'FL'\n",
       "\\item 'GA'\n",
       "\\item 'HI'\n",
       "\\item 'IA'\n",
       "\\item 'ID'\n",
       "\\item 'IL'\n",
       "\\item 'IN'\n",
       "\\item 'KS'\n",
       "\\item 'KY'\n",
       "\\item 'LA'\n",
       "\\item 'MA'\n",
       "\\item 'MD'\n",
       "\\item 'ME'\n",
       "\\item 'MI'\n",
       "\\item 'MN'\n",
       "\\item 'MO'\n",
       "\\item 'MS'\n",
       "\\item 'MT'\n",
       "\\item 'NC'\n",
       "\\item 'ND'\n",
       "\\item 'NE'\n",
       "\\item 'NH'\n",
       "\\item 'NJ'\n",
       "\\item 'NM'\n",
       "\\item 'NV'\n",
       "\\item 'NY'\n",
       "\\item 'OH'\n",
       "\\item 'OK'\n",
       "\\item 'OR'\n",
       "\\item 'PA'\n",
       "\\item 'RI'\n",
       "\\item 'SC'\n",
       "\\item 'SD'\n",
       "\\item 'TN'\n",
       "\\item 'TX'\n",
       "\\item 'US-TOTAL'\n",
       "\\item 'UT'\n",
       "\\item 'VA'\n",
       "\\item 'VT'\n",
       "\\item 'WA'\n",
       "\\item 'WI'\n",
       "\\item 'WV'\n",
       "\\item 'WY'\n",
       "\\item '  '\n",
       "\\end{enumerate*}\n"
      ],
      "text/markdown": [
       "1. 'AK'\n",
       "2. 'AL'\n",
       "3. 'AR'\n",
       "4. 'AZ'\n",
       "5. 'CA'\n",
       "6. 'CO'\n",
       "7. 'CT'\n",
       "8. 'DC'\n",
       "9. 'DE'\n",
       "10. 'FL'\n",
       "11. 'GA'\n",
       "12. 'HI'\n",
       "13. 'IA'\n",
       "14. 'ID'\n",
       "15. 'IL'\n",
       "16. 'IN'\n",
       "17. 'KS'\n",
       "18. 'KY'\n",
       "19. 'LA'\n",
       "20. 'MA'\n",
       "21. 'MD'\n",
       "22. 'ME'\n",
       "23. 'MI'\n",
       "24. 'MN'\n",
       "25. 'MO'\n",
       "26. 'MS'\n",
       "27. 'MT'\n",
       "28. 'NC'\n",
       "29. 'ND'\n",
       "30. 'NE'\n",
       "31. 'NH'\n",
       "32. 'NJ'\n",
       "33. 'NM'\n",
       "34. 'NV'\n",
       "35. 'NY'\n",
       "36. 'OH'\n",
       "37. 'OK'\n",
       "38. 'OR'\n",
       "39. 'PA'\n",
       "40. 'RI'\n",
       "41. 'SC'\n",
       "42. 'SD'\n",
       "43. 'TN'\n",
       "44. 'TX'\n",
       "45. 'US-TOTAL'\n",
       "46. 'UT'\n",
       "47. 'VA'\n",
       "48. 'VT'\n",
       "49. 'WA'\n",
       "50. 'WI'\n",
       "51. 'WV'\n",
       "52. 'WY'\n",
       "53. <span style=white-space:pre-wrap>'  '</span>\n",
       "\n",
       "\n"
      ],
      "text/plain": [
       " [1] \"AK\"       \"AL\"       \"AR\"       \"AZ\"       \"CA\"       \"CO\"      \n",
       " [7] \"CT\"       \"DC\"       \"DE\"       \"FL\"       \"GA\"       \"HI\"      \n",
       "[13] \"IA\"       \"ID\"       \"IL\"       \"IN\"       \"KS\"       \"KY\"      \n",
       "[19] \"LA\"       \"MA\"       \"MD\"       \"ME\"       \"MI\"       \"MN\"      \n",
       "[25] \"MO\"       \"MS\"       \"MT\"       \"NC\"       \"ND\"       \"NE\"      \n",
       "[31] \"NH\"       \"NJ\"       \"NM\"       \"NV\"       \"NY\"       \"OH\"      \n",
       "[37] \"OK\"       \"OR\"       \"PA\"       \"RI\"       \"SC\"       \"SD\"      \n",
       "[43] \"TN\"       \"TX\"       \"US-TOTAL\" \"UT\"       \"VA\"       \"VT\"      \n",
       "[49] \"WA\"       \"WI\"       \"WV\"       \"WY\"       \"  \"      "
      ]
     },
     "metadata": {},
     "output_type": "display_data"
    }
   ],
   "source": [
    "#US-Total\n",
    "#US-TOTAL\n",
    "data$STATE <- toupper(data$STATE)\n",
    "unique(data$STATE)"
   ]
  },
  {
   "cell_type": "code",
   "execution_count": 189,
   "metadata": {},
   "outputs": [
    {
     "data": {
      "text/html": [
       "<table class=\"dataframe\">\n",
       "<caption>A data.frame: 6 × 5</caption>\n",
       "<thead>\n",
       "\t<tr><th></th><th scope=col>YEAR</th><th scope=col>STATE</th><th scope=col>TYPE.OF.PRODUCER</th><th scope=col>ENERGY.SOURCE</th><th scope=col>GENERATION..Megawatthours.</th></tr>\n",
       "\t<tr><th></th><th scope=col>&lt;int&gt;</th><th scope=col>&lt;chr&gt;</th><th scope=col>&lt;chr&gt;</th><th scope=col>&lt;chr&gt;</th><th scope=col>&lt;dbl&gt;</th></tr>\n",
       "</thead>\n",
       "<tbody>\n",
       "\t<tr><th scope=row>1</th><td>1990</td><td>AK</td><td>Total Electric Power Industry</td><td>Total                     </td><td>5599506</td></tr>\n",
       "\t<tr><th scope=row>2</th><td>1990</td><td>AK</td><td>Total Electric Power Industry</td><td>Coal                      </td><td> 510573</td></tr>\n",
       "\t<tr><th scope=row>3</th><td>1990</td><td>AK</td><td>Total Electric Power Industry</td><td>Hydroelectric Conventional</td><td> 974521</td></tr>\n",
       "\t<tr><th scope=row>4</th><td>1990</td><td>AK</td><td>Total Electric Power Industry</td><td>Natural Gas               </td><td>3466261</td></tr>\n",
       "\t<tr><th scope=row>5</th><td>1990</td><td>AK</td><td>Total Electric Power Industry</td><td>Petroleum                 </td><td> 497116</td></tr>\n",
       "\t<tr><th scope=row>6</th><td>1990</td><td>AK</td><td>Total Electric Power Industry</td><td>Wind                      </td><td>      0</td></tr>\n",
       "</tbody>\n",
       "</table>\n"
      ],
      "text/latex": [
       "A data.frame: 6 × 5\n",
       "\\begin{tabular}{r|lllll}\n",
       "  & YEAR & STATE & TYPE.OF.PRODUCER & ENERGY.SOURCE & GENERATION..Megawatthours.\\\\\n",
       "  & <int> & <chr> & <chr> & <chr> & <dbl>\\\\\n",
       "\\hline\n",
       "\t1 & 1990 & AK & Total Electric Power Industry & Total                      & 5599506\\\\\n",
       "\t2 & 1990 & AK & Total Electric Power Industry & Coal                       &  510573\\\\\n",
       "\t3 & 1990 & AK & Total Electric Power Industry & Hydroelectric Conventional &  974521\\\\\n",
       "\t4 & 1990 & AK & Total Electric Power Industry & Natural Gas                & 3466261\\\\\n",
       "\t5 & 1990 & AK & Total Electric Power Industry & Petroleum                  &  497116\\\\\n",
       "\t6 & 1990 & AK & Total Electric Power Industry & Wind                       &       0\\\\\n",
       "\\end{tabular}\n"
      ],
      "text/markdown": [
       "\n",
       "A data.frame: 6 × 5\n",
       "\n",
       "| <!--/--> | YEAR &lt;int&gt; | STATE &lt;chr&gt; | TYPE.OF.PRODUCER &lt;chr&gt; | ENERGY.SOURCE &lt;chr&gt; | GENERATION..Megawatthours. &lt;dbl&gt; |\n",
       "|---|---|---|---|---|---|\n",
       "| 1 | 1990 | AK | Total Electric Power Industry | Total                      | 5599506 |\n",
       "| 2 | 1990 | AK | Total Electric Power Industry | Coal                       |  510573 |\n",
       "| 3 | 1990 | AK | Total Electric Power Industry | Hydroelectric Conventional |  974521 |\n",
       "| 4 | 1990 | AK | Total Electric Power Industry | Natural Gas                | 3466261 |\n",
       "| 5 | 1990 | AK | Total Electric Power Industry | Petroleum                  |  497116 |\n",
       "| 6 | 1990 | AK | Total Electric Power Industry | Wind                       |       0 |\n",
       "\n"
      ],
      "text/plain": [
       "  YEAR STATE TYPE.OF.PRODUCER              ENERGY.SOURCE             \n",
       "1 1990 AK    Total Electric Power Industry Total                     \n",
       "2 1990 AK    Total Electric Power Industry Coal                      \n",
       "3 1990 AK    Total Electric Power Industry Hydroelectric Conventional\n",
       "4 1990 AK    Total Electric Power Industry Natural Gas               \n",
       "5 1990 AK    Total Electric Power Industry Petroleum                 \n",
       "6 1990 AK    Total Electric Power Industry Wind                      \n",
       "  GENERATION..Megawatthours.\n",
       "1 5599506                   \n",
       "2  510573                   \n",
       "3  974521                   \n",
       "4 3466261                   \n",
       "5  497116                   \n",
       "6       0                   "
      ]
     },
     "metadata": {},
     "output_type": "display_data"
    },
    {
     "data": {
      "text/html": [
       "42352"
      ],
      "text/latex": [
       "42352"
      ],
      "text/markdown": [
       "42352"
      ],
      "text/plain": [
       "[1] 42352"
      ]
     },
     "metadata": {},
     "output_type": "display_data"
    }
   ],
   "source": [
    "# Other, Other Gases, Other Biomass, Pumped Storage\n",
    "data <- data[!(data$ENERGY.SOURCE == 'Other'),]\n",
    "data <- data[!(data$ENERGY.SOURCE == 'Other Gases'),]\n",
    "data <- data[!(data$ENERGY.SOURCE == 'Other Biomass'),]\n",
    "data <- data[!(data$ENERGY.SOURCE == 'Pumped Storage'),]\n",
    "head(data)\n",
    "nrow(data)"
   ]
  },
  {
   "cell_type": "code",
   "execution_count": 190,
   "metadata": {},
   "outputs": [
    {
     "data": {
      "text/html": [
       "<style>\n",
       ".list-inline {list-style: none; margin:0; padding: 0}\n",
       ".list-inline>li {display: inline-block}\n",
       ".list-inline>li:not(:last-child)::after {content: \"\\00b7\"; padding: 0 .5ex}\n",
       "</style>\n",
       "<ol class=list-inline><li>'Total'</li><li>'Coal'</li><li>'Hydro'</li><li>'Natural Gas'</li><li>'Petroleum'</li><li>'Wind'</li><li>'Wood'</li><li>'Nuclear'</li><li>'Geothermal'</li><li>'Solar'</li></ol>\n"
      ],
      "text/latex": [
       "\\begin{enumerate*}\n",
       "\\item 'Total'\n",
       "\\item 'Coal'\n",
       "\\item 'Hydro'\n",
       "\\item 'Natural Gas'\n",
       "\\item 'Petroleum'\n",
       "\\item 'Wind'\n",
       "\\item 'Wood'\n",
       "\\item 'Nuclear'\n",
       "\\item 'Geothermal'\n",
       "\\item 'Solar'\n",
       "\\end{enumerate*}\n"
      ],
      "text/markdown": [
       "1. 'Total'\n",
       "2. 'Coal'\n",
       "3. 'Hydro'\n",
       "4. 'Natural Gas'\n",
       "5. 'Petroleum'\n",
       "6. 'Wind'\n",
       "7. 'Wood'\n",
       "8. 'Nuclear'\n",
       "9. 'Geothermal'\n",
       "10. 'Solar'\n",
       "\n",
       "\n"
      ],
      "text/plain": [
       " [1] \"Total\"       \"Coal\"        \"Hydro\"       \"Natural Gas\" \"Petroleum\"  \n",
       " [6] \"Wind\"        \"Wood\"        \"Nuclear\"     \"Geothermal\"  \"Solar\"      "
      ]
     },
     "metadata": {},
     "output_type": "display_data"
    }
   ],
   "source": [
    "# Rename, i.e. Hydro, Wood, Solar\n",
    "data$ENERGY.SOURCE[data$ENERGY.SOURCE == 'Hydroelectric Conventional'] <- 'Hydro'\n",
    "data$ENERGY.SOURCE[data$ENERGY.SOURCE == 'Wood and Wood Derived Fuels'] <- 'Wood'\n",
    "data$ENERGY.SOURCE[data$ENERGY.SOURCE == 'Solar Thermal and Photovoltaic'] <- 'Solar'\n",
    "unique(data$ENERGY.SOURCE)"
   ]
  },
  {
   "cell_type": "code",
   "execution_count": 191,
   "metadata": {},
   "outputs": [
    {
     "name": "stdout",
     "output_type": "stream",
     "text": [
      "'data.frame':\t42352 obs. of  5 variables:\n",
      " $ YEAR                      : int  1990 1990 1990 1990 1990 1990 1990 1990 1990 1990 ...\n",
      " $ STATE                     : Factor w/ 53 levels \"  \",\"AK\",\"AL\",..: 2 2 2 2 2 2 2 2 2 2 ...\n",
      " $ TYPE.OF.PRODUCER          : Factor w/ 6 levels \"Combined Heat and Power, Commercial Power\",..: 6 6 6 6 6 6 6 4 4 4 ...\n",
      " $ ENERGY.SOURCE             : Factor w/ 10 levels \"Coal\",\"Geothermal\",..: 8 1 3 4 6 9 10 8 1 3 ...\n",
      " $ GENERATION..Megawatthours.: num  5599506 510573 974521 3466261 497116 ...\n"
     ]
    }
   ],
   "source": [
    "# as.factor, to categorical\n",
    "data$STATE <- as.factor(data$STATE)\n",
    "data$TYPE.OF.PRODUCER <- as.factor(data$TYPE.OF.PRODUCER)\n",
    "data$ENERGY.SOURCE <- as.factor(data$ENERGY.SOURCE)\n",
    "str(data)"
   ]
  },
  {
   "cell_type": "code",
   "execution_count": 192,
   "metadata": {},
   "outputs": [
    {
     "data": {
      "text/html": [
       "<table class=\"dataframe\">\n",
       "<caption>A data.frame: 3 × 5</caption>\n",
       "<thead>\n",
       "\t<tr><th></th><th scope=col>YEAR</th><th scope=col>STATE</th><th scope=col>TYPE.OF.PRODUCER</th><th scope=col>ENERGY.SOURCE</th><th scope=col>GENERATION..Megawatthours.</th></tr>\n",
       "\t<tr><th></th><th scope=col>&lt;int&gt;</th><th scope=col>&lt;fct&gt;</th><th scope=col>&lt;fct&gt;</th><th scope=col>&lt;fct&gt;</th><th scope=col>&lt;dbl&gt;</th></tr>\n",
       "</thead>\n",
       "<tbody>\n",
       "\t<tr><th scope=row>20577</th><td>2003</td><td>  </td><td>Total Electric Power Industry</td><td>Coal       </td><td>0</td></tr>\n",
       "\t<tr><th scope=row>20578</th><td>2003</td><td>  </td><td>Total Electric Power Industry</td><td>Natural Gas</td><td>0</td></tr>\n",
       "\t<tr><th scope=row>20579</th><td>2003</td><td>  </td><td>Total Electric Power Industry</td><td>Petroleum  </td><td>0</td></tr>\n",
       "</tbody>\n",
       "</table>\n"
      ],
      "text/latex": [
       "A data.frame: 3 × 5\n",
       "\\begin{tabular}{r|lllll}\n",
       "  & YEAR & STATE & TYPE.OF.PRODUCER & ENERGY.SOURCE & GENERATION..Megawatthours.\\\\\n",
       "  & <int> & <fct> & <fct> & <fct> & <dbl>\\\\\n",
       "\\hline\n",
       "\t20577 & 2003 &    & Total Electric Power Industry & Coal        & 0\\\\\n",
       "\t20578 & 2003 &    & Total Electric Power Industry & Natural Gas & 0\\\\\n",
       "\t20579 & 2003 &    & Total Electric Power Industry & Petroleum   & 0\\\\\n",
       "\\end{tabular}\n"
      ],
      "text/markdown": [
       "\n",
       "A data.frame: 3 × 5\n",
       "\n",
       "| <!--/--> | YEAR &lt;int&gt; | STATE &lt;fct&gt; | TYPE.OF.PRODUCER &lt;fct&gt; | ENERGY.SOURCE &lt;fct&gt; | GENERATION..Megawatthours. &lt;dbl&gt; |\n",
       "|---|---|---|---|---|---|\n",
       "| 20577 | 2003 | <!----> | Total Electric Power Industry | Coal        | 0 |\n",
       "| 20578 | 2003 | <!----> | Total Electric Power Industry | Natural Gas | 0 |\n",
       "| 20579 | 2003 | <!----> | Total Electric Power Industry | Petroleum   | 0 |\n",
       "\n"
      ],
      "text/plain": [
       "      YEAR STATE TYPE.OF.PRODUCER              ENERGY.SOURCE\n",
       "20577 2003       Total Electric Power Industry Coal         \n",
       "20578 2003       Total Electric Power Industry Natural Gas  \n",
       "20579 2003       Total Electric Power Industry Petroleum    \n",
       "      GENERATION..Megawatthours.\n",
       "20577 0                         \n",
       "20578 0                         \n",
       "20579 0                         "
      ]
     },
     "metadata": {},
     "output_type": "display_data"
    }
   ],
   "source": [
    "# Three states with missing identifiers. \n",
    "# We could try to figure out which states\n",
    "# are missing this data, or we could just\n",
    "# remove it.\n",
    "data[data$STATE == \"  \",]"
   ]
  },
  {
   "cell_type": "code",
   "execution_count": 193,
   "metadata": {},
   "outputs": [
    {
     "data": {
      "text/html": [
       "<table class=\"dataframe\">\n",
       "<caption>A data.frame: 6 × 5</caption>\n",
       "<thead>\n",
       "\t<tr><th></th><th scope=col>YEAR</th><th scope=col>STATE</th><th scope=col>TYPE.OF.PRODUCER</th><th scope=col>ENERGY.SOURCE</th><th scope=col>GENERATION..Megawatthours.</th></tr>\n",
       "\t<tr><th></th><th scope=col>&lt;int&gt;</th><th scope=col>&lt;fct&gt;</th><th scope=col>&lt;fct&gt;</th><th scope=col>&lt;fct&gt;</th><th scope=col>&lt;dbl&gt;</th></tr>\n",
       "</thead>\n",
       "<tbody>\n",
       "\t<tr><th scope=row>1</th><td>1990</td><td>AK</td><td>Total Electric Power Industry</td><td>Total      </td><td>5599506</td></tr>\n",
       "\t<tr><th scope=row>2</th><td>1990</td><td>AK</td><td>Total Electric Power Industry</td><td>Coal       </td><td> 510573</td></tr>\n",
       "\t<tr><th scope=row>3</th><td>1990</td><td>AK</td><td>Total Electric Power Industry</td><td>Hydro      </td><td> 974521</td></tr>\n",
       "\t<tr><th scope=row>4</th><td>1990</td><td>AK</td><td>Total Electric Power Industry</td><td>Natural Gas</td><td>3466261</td></tr>\n",
       "\t<tr><th scope=row>5</th><td>1990</td><td>AK</td><td>Total Electric Power Industry</td><td>Petroleum  </td><td> 497116</td></tr>\n",
       "\t<tr><th scope=row>6</th><td>1990</td><td>AK</td><td>Total Electric Power Industry</td><td>Wind       </td><td>      0</td></tr>\n",
       "</tbody>\n",
       "</table>\n"
      ],
      "text/latex": [
       "A data.frame: 6 × 5\n",
       "\\begin{tabular}{r|lllll}\n",
       "  & YEAR & STATE & TYPE.OF.PRODUCER & ENERGY.SOURCE & GENERATION..Megawatthours.\\\\\n",
       "  & <int> & <fct> & <fct> & <fct> & <dbl>\\\\\n",
       "\\hline\n",
       "\t1 & 1990 & AK & Total Electric Power Industry & Total       & 5599506\\\\\n",
       "\t2 & 1990 & AK & Total Electric Power Industry & Coal        &  510573\\\\\n",
       "\t3 & 1990 & AK & Total Electric Power Industry & Hydro       &  974521\\\\\n",
       "\t4 & 1990 & AK & Total Electric Power Industry & Natural Gas & 3466261\\\\\n",
       "\t5 & 1990 & AK & Total Electric Power Industry & Petroleum   &  497116\\\\\n",
       "\t6 & 1990 & AK & Total Electric Power Industry & Wind        &       0\\\\\n",
       "\\end{tabular}\n"
      ],
      "text/markdown": [
       "\n",
       "A data.frame: 6 × 5\n",
       "\n",
       "| <!--/--> | YEAR &lt;int&gt; | STATE &lt;fct&gt; | TYPE.OF.PRODUCER &lt;fct&gt; | ENERGY.SOURCE &lt;fct&gt; | GENERATION..Megawatthours. &lt;dbl&gt; |\n",
       "|---|---|---|---|---|---|\n",
       "| 1 | 1990 | AK | Total Electric Power Industry | Total       | 5599506 |\n",
       "| 2 | 1990 | AK | Total Electric Power Industry | Coal        |  510573 |\n",
       "| 3 | 1990 | AK | Total Electric Power Industry | Hydro       |  974521 |\n",
       "| 4 | 1990 | AK | Total Electric Power Industry | Natural Gas | 3466261 |\n",
       "| 5 | 1990 | AK | Total Electric Power Industry | Petroleum   |  497116 |\n",
       "| 6 | 1990 | AK | Total Electric Power Industry | Wind        |       0 |\n",
       "\n"
      ],
      "text/plain": [
       "  YEAR STATE TYPE.OF.PRODUCER              ENERGY.SOURCE\n",
       "1 1990 AK    Total Electric Power Industry Total        \n",
       "2 1990 AK    Total Electric Power Industry Coal         \n",
       "3 1990 AK    Total Electric Power Industry Hydro        \n",
       "4 1990 AK    Total Electric Power Industry Natural Gas  \n",
       "5 1990 AK    Total Electric Power Industry Petroleum    \n",
       "6 1990 AK    Total Electric Power Industry Wind         \n",
       "  GENERATION..Megawatthours.\n",
       "1 5599506                   \n",
       "2  510573                   \n",
       "3  974521                   \n",
       "4 3466261                   \n",
       "5  497116                   \n",
       "6       0                   "
      ]
     },
     "metadata": {},
     "output_type": "display_data"
    },
    {
     "data": {
      "text/html": [
       "42349"
      ],
      "text/latex": [
       "42349"
      ],
      "text/markdown": [
       "42349"
      ],
      "text/plain": [
       "[1] 42349"
      ]
     },
     "metadata": {},
     "output_type": "display_data"
    }
   ],
   "source": [
    "#data[!apply(data == \"  \", 1, all),]\n",
    "#data <- data[!apply(is.na(data) | data == \"   \", 1, all),]\n",
    "data <- data[!(data$STATE == \"  \"),]\n",
    "head(data)\n",
    "nrow(data)"
   ]
  },
  {
   "cell_type": "code",
   "execution_count": 194,
   "metadata": {},
   "outputs": [
    {
     "data": {
      "text/html": [
       "<table class=\"dataframe\">\n",
       "<caption>A data.frame: 6 × 5</caption>\n",
       "<thead>\n",
       "\t<tr><th></th><th scope=col>YEAR</th><th scope=col>STATE</th><th scope=col>TYPE.OF.PRODUCER</th><th scope=col>ENERGY.SOURCE</th><th scope=col>GENERATION..Megawatthours.</th></tr>\n",
       "\t<tr><th></th><th scope=col>&lt;int&gt;</th><th scope=col>&lt;fct&gt;</th><th scope=col>&lt;fct&gt;</th><th scope=col>&lt;fct&gt;</th><th scope=col>&lt;dbl&gt;</th></tr>\n",
       "</thead>\n",
       "<tbody>\n",
       "\t<tr><th scope=row>1</th><td>1990</td><td>AK</td><td>Total Electric Power Industry</td><td>Total      </td><td>5599506</td></tr>\n",
       "\t<tr><th scope=row>2</th><td>1990</td><td>AK</td><td>Total Electric Power Industry</td><td>Coal       </td><td> 510573</td></tr>\n",
       "\t<tr><th scope=row>3</th><td>1990</td><td>AK</td><td>Total Electric Power Industry</td><td>Hydro      </td><td> 974521</td></tr>\n",
       "\t<tr><th scope=row>4</th><td>1990</td><td>AK</td><td>Total Electric Power Industry</td><td>Natural Gas</td><td>3466261</td></tr>\n",
       "\t<tr><th scope=row>5</th><td>1990</td><td>AK</td><td>Total Electric Power Industry</td><td>Petroleum  </td><td> 497116</td></tr>\n",
       "\t<tr><th scope=row>6</th><td>1990</td><td>AK</td><td>Total Electric Power Industry</td><td>Wind       </td><td>      0</td></tr>\n",
       "</tbody>\n",
       "</table>\n"
      ],
      "text/latex": [
       "A data.frame: 6 × 5\n",
       "\\begin{tabular}{r|lllll}\n",
       "  & YEAR & STATE & TYPE.OF.PRODUCER & ENERGY.SOURCE & GENERATION..Megawatthours.\\\\\n",
       "  & <int> & <fct> & <fct> & <fct> & <dbl>\\\\\n",
       "\\hline\n",
       "\t1 & 1990 & AK & Total Electric Power Industry & Total       & 5599506\\\\\n",
       "\t2 & 1990 & AK & Total Electric Power Industry & Coal        &  510573\\\\\n",
       "\t3 & 1990 & AK & Total Electric Power Industry & Hydro       &  974521\\\\\n",
       "\t4 & 1990 & AK & Total Electric Power Industry & Natural Gas & 3466261\\\\\n",
       "\t5 & 1990 & AK & Total Electric Power Industry & Petroleum   &  497116\\\\\n",
       "\t6 & 1990 & AK & Total Electric Power Industry & Wind        &       0\\\\\n",
       "\\end{tabular}\n"
      ],
      "text/markdown": [
       "\n",
       "A data.frame: 6 × 5\n",
       "\n",
       "| <!--/--> | YEAR &lt;int&gt; | STATE &lt;fct&gt; | TYPE.OF.PRODUCER &lt;fct&gt; | ENERGY.SOURCE &lt;fct&gt; | GENERATION..Megawatthours. &lt;dbl&gt; |\n",
       "|---|---|---|---|---|---|\n",
       "| 1 | 1990 | AK | Total Electric Power Industry | Total       | 5599506 |\n",
       "| 2 | 1990 | AK | Total Electric Power Industry | Coal        |  510573 |\n",
       "| 3 | 1990 | AK | Total Electric Power Industry | Hydro       |  974521 |\n",
       "| 4 | 1990 | AK | Total Electric Power Industry | Natural Gas | 3466261 |\n",
       "| 5 | 1990 | AK | Total Electric Power Industry | Petroleum   |  497116 |\n",
       "| 6 | 1990 | AK | Total Electric Power Industry | Wind        |       0 |\n",
       "\n"
      ],
      "text/plain": [
       "  YEAR STATE TYPE.OF.PRODUCER              ENERGY.SOURCE\n",
       "1 1990 AK    Total Electric Power Industry Total        \n",
       "2 1990 AK    Total Electric Power Industry Coal         \n",
       "3 1990 AK    Total Electric Power Industry Hydro        \n",
       "4 1990 AK    Total Electric Power Industry Natural Gas  \n",
       "5 1990 AK    Total Electric Power Industry Petroleum    \n",
       "6 1990 AK    Total Electric Power Industry Wind         \n",
       "  GENERATION..Megawatthours.\n",
       "1 5599506                   \n",
       "2  510573                   \n",
       "3  974521                   \n",
       "4 3466261                   \n",
       "5  497116                   \n",
       "6       0                   "
      ]
     },
     "metadata": {},
     "output_type": "display_data"
    },
    {
     "data": {
      "text/html": [
       "42293"
      ],
      "text/latex": [
       "42293"
      ],
      "text/markdown": [
       "42293"
      ],
      "text/plain": [
       "[1] 42293"
      ]
     },
     "metadata": {},
     "output_type": "display_data"
    }
   ],
   "source": [
    "# Negative power\n",
    "data <- data[!(data$GENERATION..Megawatthours. < 0),]\n",
    "head(data)\n",
    "nrow(data)"
   ]
  },
  {
   "cell_type": "code",
   "execution_count": 206,
   "metadata": {},
   "outputs": [],
   "source": [
    "names(data)[names(data) == 'GENERATION..Megawatthours.'] <- 'GEN'"
   ]
  },
  {
   "cell_type": "code",
   "execution_count": 221,
   "metadata": {},
   "outputs": [
    {
     "data": {
      "text/html": [
       "<table class=\"dataframe\">\n",
       "<caption>A data.frame: 6 × 5</caption>\n",
       "<thead>\n",
       "\t<tr><th></th><th scope=col>YEAR</th><th scope=col>STATE</th><th scope=col>TYPE.OF.PRODUCER</th><th scope=col>ENERGY.SOURCE</th><th scope=col>GEN</th></tr>\n",
       "\t<tr><th></th><th scope=col>&lt;int&gt;</th><th scope=col>&lt;fct&gt;</th><th scope=col>&lt;fct&gt;</th><th scope=col>&lt;fct&gt;</th><th scope=col>&lt;dbl&gt;</th></tr>\n",
       "</thead>\n",
       "<tbody>\n",
       "\t<tr><th scope=row>1191</th><td>1990</td><td>US-TOTAL</td><td>Total Electric Power Industry</td><td>Coal       </td><td>1594011479</td></tr>\n",
       "\t<tr><th scope=row>1192</th><td>1990</td><td>US-TOTAL</td><td>Total Electric Power Industry</td><td>Geothermal </td><td>  15434271</td></tr>\n",
       "\t<tr><th scope=row>1193</th><td>1990</td><td>US-TOTAL</td><td>Total Electric Power Industry</td><td>Hydro      </td><td> 292865846</td></tr>\n",
       "\t<tr><th scope=row>1194</th><td>1990</td><td>US-TOTAL</td><td>Total Electric Power Industry</td><td>Natural Gas</td><td> 372765154</td></tr>\n",
       "\t<tr><th scope=row>1195</th><td>1990</td><td>US-TOTAL</td><td>Total Electric Power Industry</td><td>Nuclear    </td><td> 576861678</td></tr>\n",
       "\t<tr><th scope=row>1199</th><td>1990</td><td>US-TOTAL</td><td>Total Electric Power Industry</td><td>Petroleum  </td><td> 126460202</td></tr>\n",
       "</tbody>\n",
       "</table>\n"
      ],
      "text/latex": [
       "A data.frame: 6 × 5\n",
       "\\begin{tabular}{r|lllll}\n",
       "  & YEAR & STATE & TYPE.OF.PRODUCER & ENERGY.SOURCE & GEN\\\\\n",
       "  & <int> & <fct> & <fct> & <fct> & <dbl>\\\\\n",
       "\\hline\n",
       "\t1191 & 1990 & US-TOTAL & Total Electric Power Industry & Coal        & 1594011479\\\\\n",
       "\t1192 & 1990 & US-TOTAL & Total Electric Power Industry & Geothermal  &   15434271\\\\\n",
       "\t1193 & 1990 & US-TOTAL & Total Electric Power Industry & Hydro       &  292865846\\\\\n",
       "\t1194 & 1990 & US-TOTAL & Total Electric Power Industry & Natural Gas &  372765154\\\\\n",
       "\t1195 & 1990 & US-TOTAL & Total Electric Power Industry & Nuclear     &  576861678\\\\\n",
       "\t1199 & 1990 & US-TOTAL & Total Electric Power Industry & Petroleum   &  126460202\\\\\n",
       "\\end{tabular}\n"
      ],
      "text/markdown": [
       "\n",
       "A data.frame: 6 × 5\n",
       "\n",
       "| <!--/--> | YEAR &lt;int&gt; | STATE &lt;fct&gt; | TYPE.OF.PRODUCER &lt;fct&gt; | ENERGY.SOURCE &lt;fct&gt; | GEN &lt;dbl&gt; |\n",
       "|---|---|---|---|---|---|\n",
       "| 1191 | 1990 | US-TOTAL | Total Electric Power Industry | Coal        | 1594011479 |\n",
       "| 1192 | 1990 | US-TOTAL | Total Electric Power Industry | Geothermal  |   15434271 |\n",
       "| 1193 | 1990 | US-TOTAL | Total Electric Power Industry | Hydro       |  292865846 |\n",
       "| 1194 | 1990 | US-TOTAL | Total Electric Power Industry | Natural Gas |  372765154 |\n",
       "| 1195 | 1990 | US-TOTAL | Total Electric Power Industry | Nuclear     |  576861678 |\n",
       "| 1199 | 1990 | US-TOTAL | Total Electric Power Industry | Petroleum   |  126460202 |\n",
       "\n"
      ],
      "text/plain": [
       "     YEAR STATE    TYPE.OF.PRODUCER              ENERGY.SOURCE GEN       \n",
       "1191 1990 US-TOTAL Total Electric Power Industry Coal          1594011479\n",
       "1192 1990 US-TOTAL Total Electric Power Industry Geothermal      15434271\n",
       "1193 1990 US-TOTAL Total Electric Power Industry Hydro          292865846\n",
       "1194 1990 US-TOTAL Total Electric Power Industry Natural Gas    372765154\n",
       "1195 1990 US-TOTAL Total Electric Power Industry Nuclear        576861678\n",
       "1199 1990 US-TOTAL Total Electric Power Industry Petroleum      126460202"
      ]
     },
     "metadata": {},
     "output_type": "display_data"
    },
    {
     "data": {
      "text/html": [
       "<table class=\"dataframe\">\n",
       "<caption>A data.frame: 10 × 6</caption>\n",
       "<thead>\n",
       "\t<tr><th></th><th scope=col>YEAR</th><th scope=col>STATE</th><th scope=col>TYPE.OF.PRODUCER</th><th scope=col>ENERGY.SOURCE</th><th scope=col>GEN</th><th scope=col>Pct</th></tr>\n",
       "\t<tr><th></th><th scope=col>&lt;int&gt;</th><th scope=col>&lt;fct&gt;</th><th scope=col>&lt;fct&gt;</th><th scope=col>&lt;fct&gt;</th><th scope=col>&lt;dbl&gt;</th><th scope=col>&lt;dbl&gt;</th></tr>\n",
       "</thead>\n",
       "<tbody>\n",
       "\t<tr><th scope=row>1990.1191</th><td>1990</td><td>US-TOTAL</td><td>Total Electric Power Industry</td><td>Coal       </td><td>1594011479</td><td>52.88557323</td></tr>\n",
       "\t<tr><th scope=row>1990.1192</th><td>1990</td><td>US-TOTAL</td><td>Total Electric Power Industry</td><td>Geothermal </td><td>  15434271</td><td> 0.51207302</td></tr>\n",
       "\t<tr><th scope=row>1990.1193</th><td>1990</td><td>US-TOTAL</td><td>Total Electric Power Industry</td><td>Hydro      </td><td> 292865846</td><td> 9.71660389</td></tr>\n",
       "\t<tr><th scope=row>1990.1194</th><td>1990</td><td>US-TOTAL</td><td>Total Electric Power Industry</td><td>Natural Gas</td><td> 372765154</td><td>12.36747609</td></tr>\n",
       "\t<tr><th scope=row>1990.1195</th><td>1990</td><td>US-TOTAL</td><td>Total Electric Power Industry</td><td>Nuclear    </td><td> 576861678</td><td>19.13892147</td></tr>\n",
       "\t<tr><th scope=row>1990.1199</th><td>1990</td><td>US-TOTAL</td><td>Total Electric Power Industry</td><td>Petroleum  </td><td> 126460202</td><td> 4.19565377</td></tr>\n",
       "\t<tr><th scope=row>1990.1201</th><td>1990</td><td>US-TOTAL</td><td>Total Electric Power Industry</td><td>Solar      </td><td>    367087</td><td> 0.01217909</td></tr>\n",
       "\t<tr><th scope=row>1990.1202</th><td>1990</td><td>US-TOTAL</td><td>Total Electric Power Industry</td><td>Wind       </td><td>   2788600</td><td> 0.09251923</td></tr>\n",
       "\t<tr><th scope=row>1990.1203</th><td>1990</td><td>US-TOTAL</td><td>Total Electric Power Industry</td><td>Wood       </td><td>  32521889</td><td> 1.07900022</td></tr>\n",
       "\t<tr><th scope=row>1991.2662</th><td>1991</td><td>US-TOTAL</td><td>Total Electric Power Industry</td><td>Coal       </td><td>1590622748</td><td>52.20974716</td></tr>\n",
       "</tbody>\n",
       "</table>\n"
      ],
      "text/latex": [
       "A data.frame: 10 × 6\n",
       "\\begin{tabular}{r|llllll}\n",
       "  & YEAR & STATE & TYPE.OF.PRODUCER & ENERGY.SOURCE & GEN & Pct\\\\\n",
       "  & <int> & <fct> & <fct> & <fct> & <dbl> & <dbl>\\\\\n",
       "\\hline\n",
       "\t1990.1191 & 1990 & US-TOTAL & Total Electric Power Industry & Coal        & 1594011479 & 52.88557323\\\\\n",
       "\t1990.1192 & 1990 & US-TOTAL & Total Electric Power Industry & Geothermal  &   15434271 &  0.51207302\\\\\n",
       "\t1990.1193 & 1990 & US-TOTAL & Total Electric Power Industry & Hydro       &  292865846 &  9.71660389\\\\\n",
       "\t1990.1194 & 1990 & US-TOTAL & Total Electric Power Industry & Natural Gas &  372765154 & 12.36747609\\\\\n",
       "\t1990.1195 & 1990 & US-TOTAL & Total Electric Power Industry & Nuclear     &  576861678 & 19.13892147\\\\\n",
       "\t1990.1199 & 1990 & US-TOTAL & Total Electric Power Industry & Petroleum   &  126460202 &  4.19565377\\\\\n",
       "\t1990.1201 & 1990 & US-TOTAL & Total Electric Power Industry & Solar       &     367087 &  0.01217909\\\\\n",
       "\t1990.1202 & 1990 & US-TOTAL & Total Electric Power Industry & Wind        &    2788600 &  0.09251923\\\\\n",
       "\t1990.1203 & 1990 & US-TOTAL & Total Electric Power Industry & Wood        &   32521889 &  1.07900022\\\\\n",
       "\t1991.2662 & 1991 & US-TOTAL & Total Electric Power Industry & Coal        & 1590622748 & 52.20974716\\\\\n",
       "\\end{tabular}\n"
      ],
      "text/markdown": [
       "\n",
       "A data.frame: 10 × 6\n",
       "\n",
       "| <!--/--> | YEAR &lt;int&gt; | STATE &lt;fct&gt; | TYPE.OF.PRODUCER &lt;fct&gt; | ENERGY.SOURCE &lt;fct&gt; | GEN &lt;dbl&gt; | Pct &lt;dbl&gt; |\n",
       "|---|---|---|---|---|---|---|\n",
       "| 1990.1191 | 1990 | US-TOTAL | Total Electric Power Industry | Coal        | 1594011479 | 52.88557323 |\n",
       "| 1990.1192 | 1990 | US-TOTAL | Total Electric Power Industry | Geothermal  |   15434271 |  0.51207302 |\n",
       "| 1990.1193 | 1990 | US-TOTAL | Total Electric Power Industry | Hydro       |  292865846 |  9.71660389 |\n",
       "| 1990.1194 | 1990 | US-TOTAL | Total Electric Power Industry | Natural Gas |  372765154 | 12.36747609 |\n",
       "| 1990.1195 | 1990 | US-TOTAL | Total Electric Power Industry | Nuclear     |  576861678 | 19.13892147 |\n",
       "| 1990.1199 | 1990 | US-TOTAL | Total Electric Power Industry | Petroleum   |  126460202 |  4.19565377 |\n",
       "| 1990.1201 | 1990 | US-TOTAL | Total Electric Power Industry | Solar       |     367087 |  0.01217909 |\n",
       "| 1990.1202 | 1990 | US-TOTAL | Total Electric Power Industry | Wind        |    2788600 |  0.09251923 |\n",
       "| 1990.1203 | 1990 | US-TOTAL | Total Electric Power Industry | Wood        |   32521889 |  1.07900022 |\n",
       "| 1991.2662 | 1991 | US-TOTAL | Total Electric Power Industry | Coal        | 1590622748 | 52.20974716 |\n",
       "\n"
      ],
      "text/plain": [
       "          YEAR STATE    TYPE.OF.PRODUCER              ENERGY.SOURCE GEN       \n",
       "1990.1191 1990 US-TOTAL Total Electric Power Industry Coal          1594011479\n",
       "1990.1192 1990 US-TOTAL Total Electric Power Industry Geothermal      15434271\n",
       "1990.1193 1990 US-TOTAL Total Electric Power Industry Hydro          292865846\n",
       "1990.1194 1990 US-TOTAL Total Electric Power Industry Natural Gas    372765154\n",
       "1990.1195 1990 US-TOTAL Total Electric Power Industry Nuclear        576861678\n",
       "1990.1199 1990 US-TOTAL Total Electric Power Industry Petroleum      126460202\n",
       "1990.1201 1990 US-TOTAL Total Electric Power Industry Solar             367087\n",
       "1990.1202 1990 US-TOTAL Total Electric Power Industry Wind             2788600\n",
       "1990.1203 1990 US-TOTAL Total Electric Power Industry Wood            32521889\n",
       "1991.2662 1991 US-TOTAL Total Electric Power Industry Coal          1590622748\n",
       "          Pct        \n",
       "1990.1191 52.88557323\n",
       "1990.1192  0.51207302\n",
       "1990.1193  9.71660389\n",
       "1990.1194 12.36747609\n",
       "1990.1195 19.13892147\n",
       "1990.1199  4.19565377\n",
       "1990.1201  0.01217909\n",
       "1990.1202  0.09251923\n",
       "1990.1203  1.07900022\n",
       "1991.2662 52.20974716"
      ]
     },
     "metadata": {},
     "output_type": "display_data"
    },
    {
     "data": {
      "text/html": [
       "<table class=\"dataframe\">\n",
       "<caption>A data.frame: 10 × 6</caption>\n",
       "<thead>\n",
       "\t<tr><th></th><th scope=col>YEAR</th><th scope=col>STATE</th><th scope=col>TYPE.OF.PRODUCER</th><th scope=col>ENERGY.SOURCE</th><th scope=col>GEN</th><th scope=col>Share</th></tr>\n",
       "\t<tr><th></th><th scope=col>&lt;int&gt;</th><th scope=col>&lt;fct&gt;</th><th scope=col>&lt;fct&gt;</th><th scope=col>&lt;fct&gt;</th><th scope=col>&lt;dbl&gt;</th><th scope=col>&lt;dbl&gt;</th></tr>\n",
       "</thead>\n",
       "<tbody>\n",
       "\t<tr><th scope=row>1</th><td>1990</td><td>US-TOTAL</td><td>Total Electric Power Industry</td><td>Coal       </td><td>1594011479</td><td>52.88557323</td></tr>\n",
       "\t<tr><th scope=row>2</th><td>1990</td><td>US-TOTAL</td><td>Total Electric Power Industry</td><td>Geothermal </td><td>  15434271</td><td> 0.51207302</td></tr>\n",
       "\t<tr><th scope=row>3</th><td>1990</td><td>US-TOTAL</td><td>Total Electric Power Industry</td><td>Hydro      </td><td> 292865846</td><td> 9.71660389</td></tr>\n",
       "\t<tr><th scope=row>4</th><td>1990</td><td>US-TOTAL</td><td>Total Electric Power Industry</td><td>Natural Gas</td><td> 372765154</td><td>12.36747609</td></tr>\n",
       "\t<tr><th scope=row>5</th><td>1990</td><td>US-TOTAL</td><td>Total Electric Power Industry</td><td>Nuclear    </td><td> 576861678</td><td>19.13892147</td></tr>\n",
       "\t<tr><th scope=row>6</th><td>1990</td><td>US-TOTAL</td><td>Total Electric Power Industry</td><td>Petroleum  </td><td> 126460202</td><td> 4.19565377</td></tr>\n",
       "\t<tr><th scope=row>7</th><td>1990</td><td>US-TOTAL</td><td>Total Electric Power Industry</td><td>Solar      </td><td>    367087</td><td> 0.01217909</td></tr>\n",
       "\t<tr><th scope=row>8</th><td>1990</td><td>US-TOTAL</td><td>Total Electric Power Industry</td><td>Wind       </td><td>   2788600</td><td> 0.09251923</td></tr>\n",
       "\t<tr><th scope=row>9</th><td>1990</td><td>US-TOTAL</td><td>Total Electric Power Industry</td><td>Wood       </td><td>  32521889</td><td> 1.07900022</td></tr>\n",
       "\t<tr><th scope=row>10</th><td>1991</td><td>US-TOTAL</td><td>Total Electric Power Industry</td><td>Coal       </td><td>1590622748</td><td>52.20974716</td></tr>\n",
       "</tbody>\n",
       "</table>\n"
      ],
      "text/latex": [
       "A data.frame: 10 × 6\n",
       "\\begin{tabular}{r|llllll}\n",
       "  & YEAR & STATE & TYPE.OF.PRODUCER & ENERGY.SOURCE & GEN & Share\\\\\n",
       "  & <int> & <fct> & <fct> & <fct> & <dbl> & <dbl>\\\\\n",
       "\\hline\n",
       "\t1 & 1990 & US-TOTAL & Total Electric Power Industry & Coal        & 1594011479 & 52.88557323\\\\\n",
       "\t2 & 1990 & US-TOTAL & Total Electric Power Industry & Geothermal  &   15434271 &  0.51207302\\\\\n",
       "\t3 & 1990 & US-TOTAL & Total Electric Power Industry & Hydro       &  292865846 &  9.71660389\\\\\n",
       "\t4 & 1990 & US-TOTAL & Total Electric Power Industry & Natural Gas &  372765154 & 12.36747609\\\\\n",
       "\t5 & 1990 & US-TOTAL & Total Electric Power Industry & Nuclear     &  576861678 & 19.13892147\\\\\n",
       "\t6 & 1990 & US-TOTAL & Total Electric Power Industry & Petroleum   &  126460202 &  4.19565377\\\\\n",
       "\t7 & 1990 & US-TOTAL & Total Electric Power Industry & Solar       &     367087 &  0.01217909\\\\\n",
       "\t8 & 1990 & US-TOTAL & Total Electric Power Industry & Wind        &    2788600 &  0.09251923\\\\\n",
       "\t9 & 1990 & US-TOTAL & Total Electric Power Industry & Wood        &   32521889 &  1.07900022\\\\\n",
       "\t10 & 1991 & US-TOTAL & Total Electric Power Industry & Coal        & 1590622748 & 52.20974716\\\\\n",
       "\\end{tabular}\n"
      ],
      "text/markdown": [
       "\n",
       "A data.frame: 10 × 6\n",
       "\n",
       "| <!--/--> | YEAR &lt;int&gt; | STATE &lt;fct&gt; | TYPE.OF.PRODUCER &lt;fct&gt; | ENERGY.SOURCE &lt;fct&gt; | GEN &lt;dbl&gt; | Share &lt;dbl&gt; |\n",
       "|---|---|---|---|---|---|---|\n",
       "| 1 | 1990 | US-TOTAL | Total Electric Power Industry | Coal        | 1594011479 | 52.88557323 |\n",
       "| 2 | 1990 | US-TOTAL | Total Electric Power Industry | Geothermal  |   15434271 |  0.51207302 |\n",
       "| 3 | 1990 | US-TOTAL | Total Electric Power Industry | Hydro       |  292865846 |  9.71660389 |\n",
       "| 4 | 1990 | US-TOTAL | Total Electric Power Industry | Natural Gas |  372765154 | 12.36747609 |\n",
       "| 5 | 1990 | US-TOTAL | Total Electric Power Industry | Nuclear     |  576861678 | 19.13892147 |\n",
       "| 6 | 1990 | US-TOTAL | Total Electric Power Industry | Petroleum   |  126460202 |  4.19565377 |\n",
       "| 7 | 1990 | US-TOTAL | Total Electric Power Industry | Solar       |     367087 |  0.01217909 |\n",
       "| 8 | 1990 | US-TOTAL | Total Electric Power Industry | Wind        |    2788600 |  0.09251923 |\n",
       "| 9 | 1990 | US-TOTAL | Total Electric Power Industry | Wood        |   32521889 |  1.07900022 |\n",
       "| 10 | 1991 | US-TOTAL | Total Electric Power Industry | Coal        | 1590622748 | 52.20974716 |\n",
       "\n"
      ],
      "text/plain": [
       "   YEAR STATE    TYPE.OF.PRODUCER              ENERGY.SOURCE GEN       \n",
       "1  1990 US-TOTAL Total Electric Power Industry Coal          1594011479\n",
       "2  1990 US-TOTAL Total Electric Power Industry Geothermal      15434271\n",
       "3  1990 US-TOTAL Total Electric Power Industry Hydro          292865846\n",
       "4  1990 US-TOTAL Total Electric Power Industry Natural Gas    372765154\n",
       "5  1990 US-TOTAL Total Electric Power Industry Nuclear        576861678\n",
       "6  1990 US-TOTAL Total Electric Power Industry Petroleum      126460202\n",
       "7  1990 US-TOTAL Total Electric Power Industry Solar             367087\n",
       "8  1990 US-TOTAL Total Electric Power Industry Wind             2788600\n",
       "9  1990 US-TOTAL Total Electric Power Industry Wood            32521889\n",
       "10 1991 US-TOTAL Total Electric Power Industry Coal          1590622748\n",
       "   Share      \n",
       "1  52.88557323\n",
       "2   0.51207302\n",
       "3   9.71660389\n",
       "4  12.36747609\n",
       "5  19.13892147\n",
       "6   4.19565377\n",
       "7   0.01217909\n",
       "8   0.09251923\n",
       "9   1.07900022\n",
       "10 52.20974716"
      ]
     },
     "metadata": {},
     "output_type": "display_data"
    },
    {
     "data": {
      "text/html": [
       "<table class=\"dataframe\">\n",
       "<caption>A data.table: 10 × 3</caption>\n",
       "<thead>\n",
       "\t<tr><th scope=col>ENERGY.SOURCE</th><th scope=col>YEAR</th><th scope=col>Share</th></tr>\n",
       "\t<tr><th scope=col>&lt;fct&gt;</th><th scope=col>&lt;int&gt;</th><th scope=col>&lt;dbl&gt;</th></tr>\n",
       "</thead>\n",
       "<tbody>\n",
       "\t<tr><td>Coal       </td><td>1990</td><td>0.5288557323</td></tr>\n",
       "\t<tr><td>Geothermal </td><td>1990</td><td>0.0051207302</td></tr>\n",
       "\t<tr><td>Hydro      </td><td>1990</td><td>0.0971660389</td></tr>\n",
       "\t<tr><td>Natural Gas</td><td>1990</td><td>0.1236747609</td></tr>\n",
       "\t<tr><td>Nuclear    </td><td>1990</td><td>0.1913892147</td></tr>\n",
       "\t<tr><td>Petroleum  </td><td>1990</td><td>0.0419565377</td></tr>\n",
       "\t<tr><td>Solar      </td><td>1990</td><td>0.0001217909</td></tr>\n",
       "\t<tr><td>Wind       </td><td>1990</td><td>0.0009251923</td></tr>\n",
       "\t<tr><td>Wood       </td><td>1990</td><td>0.0107900022</td></tr>\n",
       "\t<tr><td>Coal       </td><td>1991</td><td>0.5220974716</td></tr>\n",
       "</tbody>\n",
       "</table>\n"
      ],
      "text/latex": [
       "A data.table: 10 × 3\n",
       "\\begin{tabular}{lll}\n",
       " ENERGY.SOURCE & YEAR & Share\\\\\n",
       " <fct> & <int> & <dbl>\\\\\n",
       "\\hline\n",
       "\t Coal        & 1990 & 0.5288557323\\\\\n",
       "\t Geothermal  & 1990 & 0.0051207302\\\\\n",
       "\t Hydro       & 1990 & 0.0971660389\\\\\n",
       "\t Natural Gas & 1990 & 0.1236747609\\\\\n",
       "\t Nuclear     & 1990 & 0.1913892147\\\\\n",
       "\t Petroleum   & 1990 & 0.0419565377\\\\\n",
       "\t Solar       & 1990 & 0.0001217909\\\\\n",
       "\t Wind        & 1990 & 0.0009251923\\\\\n",
       "\t Wood        & 1990 & 0.0107900022\\\\\n",
       "\t Coal        & 1991 & 0.5220974716\\\\\n",
       "\\end{tabular}\n"
      ],
      "text/markdown": [
       "\n",
       "A data.table: 10 × 3\n",
       "\n",
       "| ENERGY.SOURCE &lt;fct&gt; | YEAR &lt;int&gt; | Share &lt;dbl&gt; |\n",
       "|---|---|---|\n",
       "| Coal        | 1990 | 0.5288557323 |\n",
       "| Geothermal  | 1990 | 0.0051207302 |\n",
       "| Hydro       | 1990 | 0.0971660389 |\n",
       "| Natural Gas | 1990 | 0.1236747609 |\n",
       "| Nuclear     | 1990 | 0.1913892147 |\n",
       "| Petroleum   | 1990 | 0.0419565377 |\n",
       "| Solar       | 1990 | 0.0001217909 |\n",
       "| Wind        | 1990 | 0.0009251923 |\n",
       "| Wood        | 1990 | 0.0107900022 |\n",
       "| Coal        | 1991 | 0.5220974716 |\n",
       "\n"
      ],
      "text/plain": [
       "   ENERGY.SOURCE YEAR Share       \n",
       "1  Coal          1990 0.5288557323\n",
       "2  Geothermal    1990 0.0051207302\n",
       "3  Hydro         1990 0.0971660389\n",
       "4  Natural Gas   1990 0.1236747609\n",
       "5  Nuclear       1990 0.1913892147\n",
       "6  Petroleum     1990 0.0419565377\n",
       "7  Solar         1990 0.0001217909\n",
       "8  Wind          1990 0.0009251923\n",
       "9  Wood          1990 0.0107900022\n",
       "10 Coal          1991 0.5220974716"
      ]
     },
     "metadata": {},
     "output_type": "display_data"
    }
   ],
   "source": [
    "# total per energy source per year\n",
    "#n <- subset(data, STATE == 'US-TOTAL' && ENERGY.SOURCE == 'Total')\n",
    "n <- subset(data, STATE == 'US-TOTAL')\n",
    "n <- subset(n, ENERGY.SOURCE != 'Total')\n",
    "n <- subset(n, TYPE.OF.PRODUCER == 'Total Electric Power Industry')\n",
    "#\n",
    "#head(n, 100)\n",
    "head(n)\n",
    "#nrow(n)\n",
    "\n",
    "### WARNING: THIS FAILS TO RUN IN SHINY!!!\n",
    "fn <- function(x) 100 * x / sum(x)\n",
    "R1 <- do.call(\"rbind\", as.list(\n",
    "  by(n, n[\"YEAR\"], transform, Pct = fn(GEN))\n",
    "  #by(data, data[\"ENERGY.SOURCE\"], transform, Pct = fn(Sales)),\n",
    "))\n",
    "head(R1, 10)\n",
    "### WARNING: THIS FAILS TO RUN IN SHINY!!!\n",
    "library(plyr)\n",
    "fn <- function(x) 100 * x / sum(x)\n",
    "R2 <- ddply(n, \"YEAR\", transform, Share=fn(GEN))\n",
    "head(R2, 10)\n",
    "\n",
    "\n",
    "\n",
    "library(data.table)\n",
    "dt <- data.table(n)\n",
    "setkey(dt, \"YEAR\") \n",
    "X <- dt[, list(SUM=sum(GEN)), by=key(dt)] \n",
    "R3 <- dt[X, list(ENERGY.SOURCE, YEAR, Share=GEN/SUM)]\n",
    "head(R3, 10)\n",
    "\n",
    "# n.groupby([\"YEAR\"])\\\n",
    "# .agg({\"Percent Total\" : \"sum\"})[[\"Percent Total\"]]\\\n",
    "# .apply(lambda x: 100*x/x.sum()) #\\\n",
    "#.sort_values(by=\"Total Amount\", ascending=False)"
   ]
  },
  {
   "cell_type": "code",
   "execution_count": null,
   "metadata": {},
   "outputs": [],
   "source": []
  }
 ],
 "metadata": {
  "kernelspec": {
   "display_name": "R",
   "language": "R",
   "name": "ir"
  },
  "language_info": {
   "codemirror_mode": "r",
   "file_extension": ".r",
   "mimetype": "text/x-r-source",
   "name": "R",
   "pygments_lexer": "r",
   "version": "4.0.3"
  }
 },
 "nbformat": 4,
 "nbformat_minor": 4
}
